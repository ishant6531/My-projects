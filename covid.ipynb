{
 "cells": [
  {
   "cell_type": "code",
   "execution_count": 62,
   "metadata": {},
   "outputs": [],
   "source": [
    "# importing necessary libraries \n",
    "import pandas as pd\n",
    "import numpy as np\n",
    "import seaborn as sns\n",
    "import matplotlib.pyplot as plt\n",
    "import warnings\n",
    "warnings.filterwarnings(\"ignore\")"
   ]
  },
  {
   "cell_type": "code",
   "execution_count": 63,
   "metadata": {},
   "outputs": [
    {
     "data": {
      "text/html": [
       "<div>\n",
       "<style scoped>\n",
       "    .dataframe tbody tr th:only-of-type {\n",
       "        vertical-align: middle;\n",
       "    }\n",
       "\n",
       "    .dataframe tbody tr th {\n",
       "        vertical-align: top;\n",
       "    }\n",
       "\n",
       "    .dataframe thead th {\n",
       "        text-align: right;\n",
       "    }\n",
       "</style>\n",
       "<table border=\"1\" class=\"dataframe\">\n",
       "  <thead>\n",
       "    <tr style=\"text-align: right;\">\n",
       "      <th></th>\n",
       "      <th>Date</th>\n",
       "      <th>Country</th>\n",
       "      <th>Confirmed</th>\n",
       "      <th>Recovered</th>\n",
       "      <th>Deaths</th>\n",
       "    </tr>\n",
       "  </thead>\n",
       "  <tbody>\n",
       "    <tr>\n",
       "      <th>0</th>\n",
       "      <td>2020-01-22</td>\n",
       "      <td>Afghanistan</td>\n",
       "      <td>0</td>\n",
       "      <td>0</td>\n",
       "      <td>0</td>\n",
       "    </tr>\n",
       "    <tr>\n",
       "      <th>1</th>\n",
       "      <td>2020-01-22</td>\n",
       "      <td>Albania</td>\n",
       "      <td>0</td>\n",
       "      <td>0</td>\n",
       "      <td>0</td>\n",
       "    </tr>\n",
       "    <tr>\n",
       "      <th>2</th>\n",
       "      <td>2020-01-22</td>\n",
       "      <td>Algeria</td>\n",
       "      <td>0</td>\n",
       "      <td>0</td>\n",
       "      <td>0</td>\n",
       "    </tr>\n",
       "    <tr>\n",
       "      <th>3</th>\n",
       "      <td>2020-01-22</td>\n",
       "      <td>Andorra</td>\n",
       "      <td>0</td>\n",
       "      <td>0</td>\n",
       "      <td>0</td>\n",
       "    </tr>\n",
       "    <tr>\n",
       "      <th>4</th>\n",
       "      <td>2020-01-22</td>\n",
       "      <td>Angola</td>\n",
       "      <td>0</td>\n",
       "      <td>0</td>\n",
       "      <td>0</td>\n",
       "    </tr>\n",
       "    <tr>\n",
       "      <th>5</th>\n",
       "      <td>2020-01-22</td>\n",
       "      <td>Antigua and Barbuda</td>\n",
       "      <td>0</td>\n",
       "      <td>0</td>\n",
       "      <td>0</td>\n",
       "    </tr>\n",
       "    <tr>\n",
       "      <th>6</th>\n",
       "      <td>2020-01-22</td>\n",
       "      <td>Argentina</td>\n",
       "      <td>0</td>\n",
       "      <td>0</td>\n",
       "      <td>0</td>\n",
       "    </tr>\n",
       "    <tr>\n",
       "      <th>7</th>\n",
       "      <td>2020-01-22</td>\n",
       "      <td>Armenia</td>\n",
       "      <td>0</td>\n",
       "      <td>0</td>\n",
       "      <td>0</td>\n",
       "    </tr>\n",
       "    <tr>\n",
       "      <th>8</th>\n",
       "      <td>2020-01-22</td>\n",
       "      <td>Australia</td>\n",
       "      <td>0</td>\n",
       "      <td>0</td>\n",
       "      <td>0</td>\n",
       "    </tr>\n",
       "    <tr>\n",
       "      <th>9</th>\n",
       "      <td>2020-01-22</td>\n",
       "      <td>Austria</td>\n",
       "      <td>0</td>\n",
       "      <td>0</td>\n",
       "      <td>0</td>\n",
       "    </tr>\n",
       "    <tr>\n",
       "      <th>10</th>\n",
       "      <td>2020-01-22</td>\n",
       "      <td>Azerbaijan</td>\n",
       "      <td>0</td>\n",
       "      <td>0</td>\n",
       "      <td>0</td>\n",
       "    </tr>\n",
       "    <tr>\n",
       "      <th>11</th>\n",
       "      <td>2020-01-22</td>\n",
       "      <td>Bahamas</td>\n",
       "      <td>0</td>\n",
       "      <td>0</td>\n",
       "      <td>0</td>\n",
       "    </tr>\n",
       "    <tr>\n",
       "      <th>12</th>\n",
       "      <td>2020-01-22</td>\n",
       "      <td>Bahrain</td>\n",
       "      <td>0</td>\n",
       "      <td>0</td>\n",
       "      <td>0</td>\n",
       "    </tr>\n",
       "    <tr>\n",
       "      <th>13</th>\n",
       "      <td>2020-01-22</td>\n",
       "      <td>Bangladesh</td>\n",
       "      <td>0</td>\n",
       "      <td>0</td>\n",
       "      <td>0</td>\n",
       "    </tr>\n",
       "    <tr>\n",
       "      <th>14</th>\n",
       "      <td>2020-01-22</td>\n",
       "      <td>Barbados</td>\n",
       "      <td>0</td>\n",
       "      <td>0</td>\n",
       "      <td>0</td>\n",
       "    </tr>\n",
       "    <tr>\n",
       "      <th>15</th>\n",
       "      <td>2020-01-22</td>\n",
       "      <td>Belarus</td>\n",
       "      <td>0</td>\n",
       "      <td>0</td>\n",
       "      <td>0</td>\n",
       "    </tr>\n",
       "    <tr>\n",
       "      <th>16</th>\n",
       "      <td>2020-01-22</td>\n",
       "      <td>Belgium</td>\n",
       "      <td>0</td>\n",
       "      <td>0</td>\n",
       "      <td>0</td>\n",
       "    </tr>\n",
       "    <tr>\n",
       "      <th>17</th>\n",
       "      <td>2020-01-22</td>\n",
       "      <td>Belize</td>\n",
       "      <td>0</td>\n",
       "      <td>0</td>\n",
       "      <td>0</td>\n",
       "    </tr>\n",
       "    <tr>\n",
       "      <th>18</th>\n",
       "      <td>2020-01-22</td>\n",
       "      <td>Benin</td>\n",
       "      <td>0</td>\n",
       "      <td>0</td>\n",
       "      <td>0</td>\n",
       "    </tr>\n",
       "    <tr>\n",
       "      <th>19</th>\n",
       "      <td>2020-01-22</td>\n",
       "      <td>Bhutan</td>\n",
       "      <td>0</td>\n",
       "      <td>0</td>\n",
       "      <td>0</td>\n",
       "    </tr>\n",
       "    <tr>\n",
       "      <th>20</th>\n",
       "      <td>2020-01-22</td>\n",
       "      <td>Bolivia</td>\n",
       "      <td>0</td>\n",
       "      <td>0</td>\n",
       "      <td>0</td>\n",
       "    </tr>\n",
       "    <tr>\n",
       "      <th>21</th>\n",
       "      <td>2020-01-22</td>\n",
       "      <td>Bosnia and Herzegovina</td>\n",
       "      <td>0</td>\n",
       "      <td>0</td>\n",
       "      <td>0</td>\n",
       "    </tr>\n",
       "    <tr>\n",
       "      <th>22</th>\n",
       "      <td>2020-01-22</td>\n",
       "      <td>Botswana</td>\n",
       "      <td>0</td>\n",
       "      <td>0</td>\n",
       "      <td>0</td>\n",
       "    </tr>\n",
       "    <tr>\n",
       "      <th>23</th>\n",
       "      <td>2020-01-22</td>\n",
       "      <td>Brazil</td>\n",
       "      <td>0</td>\n",
       "      <td>0</td>\n",
       "      <td>0</td>\n",
       "    </tr>\n",
       "    <tr>\n",
       "      <th>24</th>\n",
       "      <td>2020-01-22</td>\n",
       "      <td>Brunei</td>\n",
       "      <td>0</td>\n",
       "      <td>0</td>\n",
       "      <td>0</td>\n",
       "    </tr>\n",
       "    <tr>\n",
       "      <th>25</th>\n",
       "      <td>2020-01-22</td>\n",
       "      <td>Bulgaria</td>\n",
       "      <td>0</td>\n",
       "      <td>0</td>\n",
       "      <td>0</td>\n",
       "    </tr>\n",
       "    <tr>\n",
       "      <th>26</th>\n",
       "      <td>2020-01-22</td>\n",
       "      <td>Burkina Faso</td>\n",
       "      <td>0</td>\n",
       "      <td>0</td>\n",
       "      <td>0</td>\n",
       "    </tr>\n",
       "    <tr>\n",
       "      <th>27</th>\n",
       "      <td>2020-01-22</td>\n",
       "      <td>Burma</td>\n",
       "      <td>0</td>\n",
       "      <td>0</td>\n",
       "      <td>0</td>\n",
       "    </tr>\n",
       "    <tr>\n",
       "      <th>28</th>\n",
       "      <td>2020-01-22</td>\n",
       "      <td>Burundi</td>\n",
       "      <td>0</td>\n",
       "      <td>0</td>\n",
       "      <td>0</td>\n",
       "    </tr>\n",
       "    <tr>\n",
       "      <th>29</th>\n",
       "      <td>2020-01-22</td>\n",
       "      <td>Cabo Verde</td>\n",
       "      <td>0</td>\n",
       "      <td>0</td>\n",
       "      <td>0</td>\n",
       "    </tr>\n",
       "    <tr>\n",
       "      <th>30</th>\n",
       "      <td>2020-01-22</td>\n",
       "      <td>Cambodia</td>\n",
       "      <td>0</td>\n",
       "      <td>0</td>\n",
       "      <td>0</td>\n",
       "    </tr>\n",
       "    <tr>\n",
       "      <th>31</th>\n",
       "      <td>2020-01-22</td>\n",
       "      <td>Cameroon</td>\n",
       "      <td>0</td>\n",
       "      <td>0</td>\n",
       "      <td>0</td>\n",
       "    </tr>\n",
       "    <tr>\n",
       "      <th>32</th>\n",
       "      <td>2020-01-22</td>\n",
       "      <td>Canada</td>\n",
       "      <td>0</td>\n",
       "      <td>0</td>\n",
       "      <td>0</td>\n",
       "    </tr>\n",
       "    <tr>\n",
       "      <th>33</th>\n",
       "      <td>2020-01-22</td>\n",
       "      <td>Central African Republic</td>\n",
       "      <td>0</td>\n",
       "      <td>0</td>\n",
       "      <td>0</td>\n",
       "    </tr>\n",
       "    <tr>\n",
       "      <th>34</th>\n",
       "      <td>2020-01-22</td>\n",
       "      <td>Chad</td>\n",
       "      <td>0</td>\n",
       "      <td>0</td>\n",
       "      <td>0</td>\n",
       "    </tr>\n",
       "    <tr>\n",
       "      <th>35</th>\n",
       "      <td>2020-01-22</td>\n",
       "      <td>Chile</td>\n",
       "      <td>0</td>\n",
       "      <td>0</td>\n",
       "      <td>0</td>\n",
       "    </tr>\n",
       "    <tr>\n",
       "      <th>36</th>\n",
       "      <td>2020-01-22</td>\n",
       "      <td>China</td>\n",
       "      <td>548</td>\n",
       "      <td>28</td>\n",
       "      <td>17</td>\n",
       "    </tr>\n",
       "    <tr>\n",
       "      <th>37</th>\n",
       "      <td>2020-01-22</td>\n",
       "      <td>Colombia</td>\n",
       "      <td>0</td>\n",
       "      <td>0</td>\n",
       "      <td>0</td>\n",
       "    </tr>\n",
       "    <tr>\n",
       "      <th>38</th>\n",
       "      <td>2020-01-22</td>\n",
       "      <td>Comoros</td>\n",
       "      <td>0</td>\n",
       "      <td>0</td>\n",
       "      <td>0</td>\n",
       "    </tr>\n",
       "    <tr>\n",
       "      <th>39</th>\n",
       "      <td>2020-01-22</td>\n",
       "      <td>Congo (Brazzaville)</td>\n",
       "      <td>0</td>\n",
       "      <td>0</td>\n",
       "      <td>0</td>\n",
       "    </tr>\n",
       "    <tr>\n",
       "      <th>40</th>\n",
       "      <td>2020-01-22</td>\n",
       "      <td>Congo (Kinshasa)</td>\n",
       "      <td>0</td>\n",
       "      <td>0</td>\n",
       "      <td>0</td>\n",
       "    </tr>\n",
       "    <tr>\n",
       "      <th>41</th>\n",
       "      <td>2020-01-22</td>\n",
       "      <td>Costa Rica</td>\n",
       "      <td>0</td>\n",
       "      <td>0</td>\n",
       "      <td>0</td>\n",
       "    </tr>\n",
       "    <tr>\n",
       "      <th>42</th>\n",
       "      <td>2020-01-22</td>\n",
       "      <td>Cote d'Ivoire</td>\n",
       "      <td>0</td>\n",
       "      <td>0</td>\n",
       "      <td>0</td>\n",
       "    </tr>\n",
       "    <tr>\n",
       "      <th>43</th>\n",
       "      <td>2020-01-22</td>\n",
       "      <td>Croatia</td>\n",
       "      <td>0</td>\n",
       "      <td>0</td>\n",
       "      <td>0</td>\n",
       "    </tr>\n",
       "    <tr>\n",
       "      <th>44</th>\n",
       "      <td>2020-01-22</td>\n",
       "      <td>Cuba</td>\n",
       "      <td>0</td>\n",
       "      <td>0</td>\n",
       "      <td>0</td>\n",
       "    </tr>\n",
       "    <tr>\n",
       "      <th>45</th>\n",
       "      <td>2020-01-22</td>\n",
       "      <td>Cyprus</td>\n",
       "      <td>0</td>\n",
       "      <td>0</td>\n",
       "      <td>0</td>\n",
       "    </tr>\n",
       "    <tr>\n",
       "      <th>46</th>\n",
       "      <td>2020-01-22</td>\n",
       "      <td>Czechia</td>\n",
       "      <td>0</td>\n",
       "      <td>0</td>\n",
       "      <td>0</td>\n",
       "    </tr>\n",
       "    <tr>\n",
       "      <th>47</th>\n",
       "      <td>2020-01-22</td>\n",
       "      <td>Denmark</td>\n",
       "      <td>0</td>\n",
       "      <td>0</td>\n",
       "      <td>0</td>\n",
       "    </tr>\n",
       "    <tr>\n",
       "      <th>48</th>\n",
       "      <td>2020-01-22</td>\n",
       "      <td>Diamond Princess</td>\n",
       "      <td>0</td>\n",
       "      <td>0</td>\n",
       "      <td>0</td>\n",
       "    </tr>\n",
       "    <tr>\n",
       "      <th>49</th>\n",
       "      <td>2020-01-22</td>\n",
       "      <td>Djibouti</td>\n",
       "      <td>0</td>\n",
       "      <td>0</td>\n",
       "      <td>0</td>\n",
       "    </tr>\n",
       "    <tr>\n",
       "      <th>50</th>\n",
       "      <td>2020-01-22</td>\n",
       "      <td>Dominica</td>\n",
       "      <td>0</td>\n",
       "      <td>0</td>\n",
       "      <td>0</td>\n",
       "    </tr>\n",
       "    <tr>\n",
       "      <th>51</th>\n",
       "      <td>2020-01-22</td>\n",
       "      <td>Dominican Republic</td>\n",
       "      <td>0</td>\n",
       "      <td>0</td>\n",
       "      <td>0</td>\n",
       "    </tr>\n",
       "    <tr>\n",
       "      <th>52</th>\n",
       "      <td>2020-01-22</td>\n",
       "      <td>Ecuador</td>\n",
       "      <td>0</td>\n",
       "      <td>0</td>\n",
       "      <td>0</td>\n",
       "    </tr>\n",
       "    <tr>\n",
       "      <th>53</th>\n",
       "      <td>2020-01-22</td>\n",
       "      <td>Egypt</td>\n",
       "      <td>0</td>\n",
       "      <td>0</td>\n",
       "      <td>0</td>\n",
       "    </tr>\n",
       "    <tr>\n",
       "      <th>54</th>\n",
       "      <td>2020-01-22</td>\n",
       "      <td>El Salvador</td>\n",
       "      <td>0</td>\n",
       "      <td>0</td>\n",
       "      <td>0</td>\n",
       "    </tr>\n",
       "    <tr>\n",
       "      <th>55</th>\n",
       "      <td>2020-01-22</td>\n",
       "      <td>Equatorial Guinea</td>\n",
       "      <td>0</td>\n",
       "      <td>0</td>\n",
       "      <td>0</td>\n",
       "    </tr>\n",
       "    <tr>\n",
       "      <th>56</th>\n",
       "      <td>2020-01-22</td>\n",
       "      <td>Eritrea</td>\n",
       "      <td>0</td>\n",
       "      <td>0</td>\n",
       "      <td>0</td>\n",
       "    </tr>\n",
       "    <tr>\n",
       "      <th>57</th>\n",
       "      <td>2020-01-22</td>\n",
       "      <td>Estonia</td>\n",
       "      <td>0</td>\n",
       "      <td>0</td>\n",
       "      <td>0</td>\n",
       "    </tr>\n",
       "    <tr>\n",
       "      <th>58</th>\n",
       "      <td>2020-01-22</td>\n",
       "      <td>Eswatini</td>\n",
       "      <td>0</td>\n",
       "      <td>0</td>\n",
       "      <td>0</td>\n",
       "    </tr>\n",
       "    <tr>\n",
       "      <th>59</th>\n",
       "      <td>2020-01-22</td>\n",
       "      <td>Ethiopia</td>\n",
       "      <td>0</td>\n",
       "      <td>0</td>\n",
       "      <td>0</td>\n",
       "    </tr>\n",
       "  </tbody>\n",
       "</table>\n",
       "</div>"
      ],
      "text/plain": [
       "          Date                   Country  Confirmed  Recovered  Deaths\n",
       "0   2020-01-22               Afghanistan          0          0       0\n",
       "1   2020-01-22                   Albania          0          0       0\n",
       "2   2020-01-22                   Algeria          0          0       0\n",
       "3   2020-01-22                   Andorra          0          0       0\n",
       "4   2020-01-22                    Angola          0          0       0\n",
       "5   2020-01-22       Antigua and Barbuda          0          0       0\n",
       "6   2020-01-22                 Argentina          0          0       0\n",
       "7   2020-01-22                   Armenia          0          0       0\n",
       "8   2020-01-22                 Australia          0          0       0\n",
       "9   2020-01-22                   Austria          0          0       0\n",
       "10  2020-01-22                Azerbaijan          0          0       0\n",
       "11  2020-01-22                   Bahamas          0          0       0\n",
       "12  2020-01-22                   Bahrain          0          0       0\n",
       "13  2020-01-22                Bangladesh          0          0       0\n",
       "14  2020-01-22                  Barbados          0          0       0\n",
       "15  2020-01-22                   Belarus          0          0       0\n",
       "16  2020-01-22                   Belgium          0          0       0\n",
       "17  2020-01-22                    Belize          0          0       0\n",
       "18  2020-01-22                     Benin          0          0       0\n",
       "19  2020-01-22                    Bhutan          0          0       0\n",
       "20  2020-01-22                   Bolivia          0          0       0\n",
       "21  2020-01-22    Bosnia and Herzegovina          0          0       0\n",
       "22  2020-01-22                  Botswana          0          0       0\n",
       "23  2020-01-22                    Brazil          0          0       0\n",
       "24  2020-01-22                    Brunei          0          0       0\n",
       "25  2020-01-22                  Bulgaria          0          0       0\n",
       "26  2020-01-22              Burkina Faso          0          0       0\n",
       "27  2020-01-22                     Burma          0          0       0\n",
       "28  2020-01-22                   Burundi          0          0       0\n",
       "29  2020-01-22                Cabo Verde          0          0       0\n",
       "30  2020-01-22                  Cambodia          0          0       0\n",
       "31  2020-01-22                  Cameroon          0          0       0\n",
       "32  2020-01-22                    Canada          0          0       0\n",
       "33  2020-01-22  Central African Republic          0          0       0\n",
       "34  2020-01-22                      Chad          0          0       0\n",
       "35  2020-01-22                     Chile          0          0       0\n",
       "36  2020-01-22                     China        548         28      17\n",
       "37  2020-01-22                  Colombia          0          0       0\n",
       "38  2020-01-22                   Comoros          0          0       0\n",
       "39  2020-01-22       Congo (Brazzaville)          0          0       0\n",
       "40  2020-01-22          Congo (Kinshasa)          0          0       0\n",
       "41  2020-01-22                Costa Rica          0          0       0\n",
       "42  2020-01-22             Cote d'Ivoire          0          0       0\n",
       "43  2020-01-22                   Croatia          0          0       0\n",
       "44  2020-01-22                      Cuba          0          0       0\n",
       "45  2020-01-22                    Cyprus          0          0       0\n",
       "46  2020-01-22                   Czechia          0          0       0\n",
       "47  2020-01-22                   Denmark          0          0       0\n",
       "48  2020-01-22          Diamond Princess          0          0       0\n",
       "49  2020-01-22                  Djibouti          0          0       0\n",
       "50  2020-01-22                  Dominica          0          0       0\n",
       "51  2020-01-22        Dominican Republic          0          0       0\n",
       "52  2020-01-22                   Ecuador          0          0       0\n",
       "53  2020-01-22                     Egypt          0          0       0\n",
       "54  2020-01-22               El Salvador          0          0       0\n",
       "55  2020-01-22         Equatorial Guinea          0          0       0\n",
       "56  2020-01-22                   Eritrea          0          0       0\n",
       "57  2020-01-22                   Estonia          0          0       0\n",
       "58  2020-01-22                  Eswatini          0          0       0\n",
       "59  2020-01-22                  Ethiopia          0          0       0"
      ]
     },
     "execution_count": 63,
     "metadata": {},
     "output_type": "execute_result"
    }
   ],
   "source": [
    "# Loading the database \n",
    "df=pd.read_csv(\"aggregate_covid_country.csv\")\n",
    "df.head(60)"
   ]
  },
  {
   "cell_type": "code",
   "execution_count": 64,
   "metadata": {},
   "outputs": [
    {
     "data": {
      "text/plain": [
       "(23688, 5)"
      ]
     },
     "execution_count": 64,
     "metadata": {},
     "output_type": "execute_result"
    }
   ],
   "source": [
    "# Shape of the database\n",
    "df.shape"
   ]
  },
  {
   "cell_type": "code",
   "execution_count": 65,
   "metadata": {},
   "outputs": [
    {
     "data": {
      "text/plain": [
       "Index(['Date', 'Country', 'Confirmed', 'Recovered', 'Deaths'], dtype='object')"
      ]
     },
     "execution_count": 65,
     "metadata": {},
     "output_type": "execute_result"
    }
   ],
   "source": [
    "df.columns"
   ]
  },
  {
   "cell_type": "code",
   "execution_count": 66,
   "metadata": {},
   "outputs": [
    {
     "name": "stdout",
     "output_type": "stream",
     "text": [
      "<class 'pandas.core.frame.DataFrame'>\n",
      "RangeIndex: 23688 entries, 0 to 23687\n",
      "Data columns (total 5 columns):\n",
      " #   Column     Non-Null Count  Dtype \n",
      "---  ------     --------------  ----- \n",
      " 0   Date       23688 non-null  object\n",
      " 1   Country    23688 non-null  object\n",
      " 2   Confirmed  23688 non-null  int64 \n",
      " 3   Recovered  23688 non-null  int64 \n",
      " 4   Deaths     23688 non-null  int64 \n",
      "dtypes: int64(3), object(2)\n",
      "memory usage: 925.4+ KB\n"
     ]
    }
   ],
   "source": [
    "df.info()"
   ]
  },
  {
   "cell_type": "code",
   "execution_count": 67,
   "metadata": {},
   "outputs": [
    {
     "data": {
      "text/plain": [
       "Date         0\n",
       "Country      0\n",
       "Confirmed    0\n",
       "Recovered    0\n",
       "Deaths       0\n",
       "dtype: int64"
      ]
     },
     "execution_count": 67,
     "metadata": {},
     "output_type": "execute_result"
    }
   ],
   "source": [
    "# finding Null values in the database\n",
    "df.isnull().sum()"
   ]
  },
  {
   "cell_type": "code",
   "execution_count": 68,
   "metadata": {},
   "outputs": [
    {
     "data": {
      "text/plain": [
       "<matplotlib.axes._subplots.AxesSubplot at 0x1328f814488>"
      ]
     },
     "execution_count": 68,
     "metadata": {},
     "output_type": "execute_result"
    },
    {
     "data": {
      "image/png": "[encoded data removed]",
      "text/plain": [
       "<Figure size 432x288 with 2 Axes>"
      ]
     },
     "metadata": {
      "needs_background": "light"
     },
     "output_type": "display_data"
    }
   ],
   "source": [
    "# Making heatmap of null values\n",
    "sns.heatmap(df.isnull())"
   ]
  },
  {
   "cell_type": "code",
   "execution_count": 69,
   "metadata": {},
   "outputs": [
    {
     "data": {
      "text/html": [
       "<div>\n",
       "<style scoped>\n",
       "    .dataframe tbody tr th:only-of-type {\n",
       "        vertical-align: middle;\n",
       "    }\n",
       "\n",
       "    .dataframe tbody tr th {\n",
       "        vertical-align: top;\n",
       "    }\n",
       "\n",
       "    .dataframe thead th {\n",
       "        text-align: right;\n",
       "    }\n",
       "</style>\n",
       "<table border=\"1\" class=\"dataframe\">\n",
       "  <thead>\n",
       "    <tr style=\"text-align: right;\">\n",
       "      <th></th>\n",
       "      <th>Confirmed</th>\n",
       "      <th>Recovered</th>\n",
       "      <th>Deaths</th>\n",
       "    </tr>\n",
       "  </thead>\n",
       "  <tbody>\n",
       "    <tr>\n",
       "      <th>count</th>\n",
       "      <td>2.368800e+04</td>\n",
       "      <td>23688.000000</td>\n",
       "      <td>23688.000000</td>\n",
       "    </tr>\n",
       "    <tr>\n",
       "      <th>mean</th>\n",
       "      <td>7.969368e+03</td>\n",
       "      <td>2581.801714</td>\n",
       "      <td>526.935030</td>\n",
       "    </tr>\n",
       "    <tr>\n",
       "      <th>std</th>\n",
       "      <td>5.842109e+04</td>\n",
       "      <td>15143.101257</td>\n",
       "      <td>3992.815956</td>\n",
       "    </tr>\n",
       "    <tr>\n",
       "      <th>min</th>\n",
       "      <td>0.000000e+00</td>\n",
       "      <td>0.000000</td>\n",
       "      <td>0.000000</td>\n",
       "    </tr>\n",
       "    <tr>\n",
       "      <th>25%</th>\n",
       "      <td>0.000000e+00</td>\n",
       "      <td>0.000000</td>\n",
       "      <td>0.000000</td>\n",
       "    </tr>\n",
       "    <tr>\n",
       "      <th>50%</th>\n",
       "      <td>1.800000e+01</td>\n",
       "      <td>1.000000</td>\n",
       "      <td>0.000000</td>\n",
       "    </tr>\n",
       "    <tr>\n",
       "      <th>75%</th>\n",
       "      <td>7.300000e+02</td>\n",
       "      <td>123.000000</td>\n",
       "      <td>13.000000</td>\n",
       "    </tr>\n",
       "    <tr>\n",
       "      <th>max</th>\n",
       "      <td>1.680913e+06</td>\n",
       "      <td>384902.000000</td>\n",
       "      <td>98913.000000</td>\n",
       "    </tr>\n",
       "  </tbody>\n",
       "</table>\n",
       "</div>"
      ],
      "text/plain": [
       "          Confirmed      Recovered        Deaths\n",
       "count  2.368800e+04   23688.000000  23688.000000\n",
       "mean   7.969368e+03    2581.801714    526.935030\n",
       "std    5.842109e+04   15143.101257   3992.815956\n",
       "min    0.000000e+00       0.000000      0.000000\n",
       "25%    0.000000e+00       0.000000      0.000000\n",
       "50%    1.800000e+01       1.000000      0.000000\n",
       "75%    7.300000e+02     123.000000     13.000000\n",
       "max    1.680913e+06  384902.000000  98913.000000"
      ]
     },
     "execution_count": 69,
     "metadata": {},
     "output_type": "execute_result"
    }
   ],
   "source": [
    "df.describe()"
   ]
  },
  {
   "cell_type": "code",
   "execution_count": 70,
   "metadata": {
    "scrolled": true
   },
   "outputs": [
    {
     "data": {
      "text/html": [
       "<div>\n",
       "<style scoped>\n",
       "    .dataframe tbody tr th:only-of-type {\n",
       "        vertical-align: middle;\n",
       "    }\n",
       "\n",
       "    .dataframe tbody tr th {\n",
       "        vertical-align: top;\n",
       "    }\n",
       "\n",
       "    .dataframe thead th {\n",
       "        text-align: right;\n",
       "    }\n",
       "</style>\n",
       "<table border=\"1\" class=\"dataframe\">\n",
       "  <thead>\n",
       "    <tr style=\"text-align: right;\">\n",
       "      <th></th>\n",
       "      <th>Confirmed</th>\n",
       "      <th>Recovered</th>\n",
       "      <th>Deaths</th>\n",
       "    </tr>\n",
       "  </thead>\n",
       "  <tbody>\n",
       "    <tr>\n",
       "      <th>Confirmed</th>\n",
       "      <td>1.000000</td>\n",
       "      <td>0.810991</td>\n",
       "      <td>0.929718</td>\n",
       "    </tr>\n",
       "    <tr>\n",
       "      <th>Recovered</th>\n",
       "      <td>0.810991</td>\n",
       "      <td>1.000000</td>\n",
       "      <td>0.778094</td>\n",
       "    </tr>\n",
       "    <tr>\n",
       "      <th>Deaths</th>\n",
       "      <td>0.929718</td>\n",
       "      <td>0.778094</td>\n",
       "      <td>1.000000</td>\n",
       "    </tr>\n",
       "  </tbody>\n",
       "</table>\n",
       "</div>"
      ],
      "text/plain": [
       "           Confirmed  Recovered    Deaths\n",
       "Confirmed   1.000000   0.810991  0.929718\n",
       "Recovered   0.810991   1.000000  0.778094\n",
       "Deaths      0.929718   0.778094  1.000000"
      ]
     },
     "execution_count": 70,
     "metadata": {},
     "output_type": "execute_result"
    }
   ],
   "source": [
    "df.corr()"
   ]
  },
  {
   "cell_type": "code",
   "execution_count": 71,
   "metadata": {},
   "outputs": [
    {
     "data": {
      "text/plain": [
       "<matplotlib.axes._subplots.AxesSubplot at 0x13290915688>"
      ]
     },
     "execution_count": 71,
     "metadata": {},
     "output_type": "execute_result"
    },
    {
     "data": {
      "image/png": "[encoded data removed]",
      "text/plain": [
       "<Figure size 432x288 with 2 Axes>"
      ]
     },
     "metadata": {
      "needs_background": "light"
     },
     "output_type": "display_data"
    }
   ],
   "source": [
    "# Making Heatmap of correlation\n",
    "sns.heatmap(df.corr())"
   ]
  },
  {
   "cell_type": "code",
   "execution_count": 72,
   "metadata": {},
   "outputs": [
    {
     "name": "stdout",
     "output_type": "stream",
     "text": [
      "Total confirmed cases = 188778378\n",
      "\n",
      "\n",
      "Total Recovered cases=  61157719\n",
      "\n",
      "\n",
      "Total Deaths cases= 12482037\n"
     ]
    }
   ],
   "source": [
    "# Getting total cases of Confirmed , recovered and deaths.\n",
    "x=df[\"Confirmed\"].sum()\n",
    "print(\"Total confirmed cases =\",x)\n",
    "print(\"\\n\")\n",
    "y=df[\"Recovered\"].sum()\n",
    "print(\"Total Recovered cases= \",y)\n",
    "print(\"\\n\")\n",
    "z=df[\"Deaths\"].sum()\n",
    "print(\"Total Deaths cases=\",z)\n"
   ]
  },
  {
   "cell_type": "code",
   "execution_count": 73,
   "metadata": {},
   "outputs": [],
   "source": [
    "df1 = {'Confirmed Corona Cases':x, \n",
    "        'Recovered Corona Cases':y, \n",
    "        'Death due to corona':z}"
   ]
  },
  {
   "cell_type": "code",
   "execution_count": 74,
   "metadata": {},
   "outputs": [
    {
     "data": {
      "text/plain": [
       "{'Confirmed Corona Cases': 188778378,\n",
       " 'Recovered Corona Cases': 61157719,\n",
       " 'Death due to corona': 12482037}"
      ]
     },
     "execution_count": 74,
     "metadata": {},
     "output_type": "execute_result"
    }
   ],
   "source": [
    "df1"
   ]
  },
  {
   "cell_type": "code",
   "execution_count": 75,
   "metadata": {},
   "outputs": [
    {
     "data": {
      "text/html": [
       "<div>\n",
       "<style scoped>\n",
       "    .dataframe tbody tr th:only-of-type {\n",
       "        vertical-align: middle;\n",
       "    }\n",
       "\n",
       "    .dataframe tbody tr th {\n",
       "        vertical-align: top;\n",
       "    }\n",
       "\n",
       "    .dataframe thead th {\n",
       "        text-align: right;\n",
       "    }\n",
       "</style>\n",
       "<table border=\"1\" class=\"dataframe\">\n",
       "  <thead>\n",
       "    <tr style=\"text-align: right;\">\n",
       "      <th></th>\n",
       "      <th>Corona</th>\n",
       "      <th>Numbers</th>\n",
       "    </tr>\n",
       "  </thead>\n",
       "  <tbody>\n",
       "    <tr>\n",
       "      <th>0</th>\n",
       "      <td>Confirmed</td>\n",
       "      <td>188778378</td>\n",
       "    </tr>\n",
       "    <tr>\n",
       "      <th>1</th>\n",
       "      <td>Recovered</td>\n",
       "      <td>61157719</td>\n",
       "    </tr>\n",
       "    <tr>\n",
       "      <th>2</th>\n",
       "      <td>Deaths</td>\n",
       "      <td>12482037</td>\n",
       "    </tr>\n",
       "  </tbody>\n",
       "</table>\n",
       "</div>"
      ],
      "text/plain": [
       "      Corona    Numbers\n",
       "0  Confirmed  188778378\n",
       "1  Recovered   61157719\n",
       "2     Deaths   12482037"
      ]
     },
     "execution_count": 75,
     "metadata": {},
     "output_type": "execute_result"
    }
   ],
   "source": [
    "# Covid Data statics \n",
    "cases={\" Corona\":[\"Confirmed\",\"Recovered\",\"Deaths\"],\"Numbers\":[188778378,61157719,12482037]}\n",
    "df5=pd.DataFrame(cases)\n",
    "df5"
   ]
  },
  {
   "cell_type": "code",
   "execution_count": 76,
   "metadata": {},
   "outputs": [
    {
     "data": {
      "image/png": "[encoded data removed]",
      "text/plain": [
       "<Figure size 432x288 with 1 Axes>"
      ]
     },
     "metadata": {
      "needs_background": "light"
     },
     "output_type": "display_data"
    }
   ],
   "source": [
    "# Making Bar chart of corona cases.\n",
    "x=df5.iloc[:,0]\n",
    "y=df5.iloc[:,-1]\n",
    "plt.bar(x,y)\n",
    "plt.ylabel(\"Numbers in 10 crore\")\n",
    "plt.title(\"Data of  Corona cases in the  world\")\n",
    " \n",
    "plt.show()"
   ]
  },
  {
   "cell_type": "markdown",
   "metadata": {},
   "source": [
    "# Multivariate Analysis "
   ]
  },
  {
   "cell_type": "code",
   "execution_count": 77,
   "metadata": {},
   "outputs": [
    {
     "data": {
      "text/plain": [
       "<seaborn.axisgrid.PairGrid at 0x13290c16b08>"
      ]
     },
     "execution_count": 77,
     "metadata": {},
     "output_type": "execute_result"
    },
    {
     "data": {
      "image/png": "[encoded data removed]",
      "text/plain": [
       "<Figure size 540x540 with 12 Axes>"
      ]
     },
     "metadata": {
      "needs_background": "light"
     },
     "output_type": "display_data"
    }
   ],
   "source": [
    "# Plotting pairplot\n",
    "sns.pairplot(df)"
   ]
  },
  {
   "cell_type": "code",
   "execution_count": 78,
   "metadata": {},
   "outputs": [
    {
     "data": {
      "text/plain": [
       "Confirmed    AxesSubplot(0.125,0.657941;0.775x0.222059)\n",
       "Recovered    AxesSubplot(0.125,0.391471;0.775x0.222059)\n",
       "Deaths          AxesSubplot(0.125,0.125;0.775x0.222059)\n",
       "dtype: object"
      ]
     },
     "execution_count": 78,
     "metadata": {},
     "output_type": "execute_result"
    },
    {
     "data": {
      "image/png": "[encoded data removed]",
      "text/plain": [
       "<Figure size 1440x5760 with 3 Axes>"
      ]
     },
     "metadata": {
      "needs_background": "light"
     },
     "output_type": "display_data"
    }
   ],
   "source": [
    "# Plotting Box plots of all columns\n",
    "df.plot(kind='box',subplots=True,layout=(3,1),figsize=(20,80))"
   ]
  },
  {
   "cell_type": "markdown",
   "metadata": {},
   "source": [
    "# Univariate Analysis "
   ]
  },
  {
   "cell_type": "code",
   "execution_count": 79,
   "metadata": {},
   "outputs": [
    {
     "data": {
      "text/plain": [
       "<matplotlib.axes._subplots.AxesSubplot at 0x132c71f38c8>"
      ]
     },
     "execution_count": 79,
     "metadata": {},
     "output_type": "execute_result"
    },
    {
     "data": {
      "image/png": "[encoded data removed]",
      "text/plain": [
       "<Figure size 432x288 with 1 Axes>"
      ]
     },
     "metadata": {
      "needs_background": "light"
     },
     "output_type": "display_data"
    }
   ],
   "source": [
    "\n",
    "df[\"Confirmed\"].plot.box()"
   ]
  },
  {
   "cell_type": "code",
   "execution_count": 80,
   "metadata": {},
   "outputs": [
    {
     "data": {
      "text/plain": [
       "<matplotlib.axes._subplots.AxesSubplot at 0x132c5267d08>"
      ]
     },
     "execution_count": 80,
     "metadata": {},
     "output_type": "execute_result"
    },
    {
     "data": {
      "image/png": "[encoded data removed]",
      "text/plain": [
       "<Figure size 432x288 with 1 Axes>"
      ]
     },
     "metadata": {
      "needs_background": "light"
     },
     "output_type": "display_data"
    }
   ],
   "source": [
    "sns.boxplot(x=df.Confirmed)"
   ]
  },
  {
   "cell_type": "code",
   "execution_count": 81,
   "metadata": {},
   "outputs": [
    {
     "data": {
      "text/plain": [
       "<matplotlib.axes._subplots.AxesSubplot at 0x132c52cb788>"
      ]
     },
     "execution_count": 81,
     "metadata": {},
     "output_type": "execute_result"
    },
    {
     "data": {
      "image/png": "[encoded data removed]",
      "text/plain": [
       "<Figure size 432x288 with 1 Axes>"
      ]
     },
     "metadata": {
      "needs_background": "light"
     },
     "output_type": "display_data"
    }
   ],
   "source": [
    "sns.boxplot(x=df.Deaths)"
   ]
  },
  {
   "cell_type": "markdown",
   "metadata": {},
   "source": [
    "# Bivariate analysis"
   ]
  },
  {
   "cell_type": "code",
   "execution_count": 82,
   "metadata": {},
   "outputs": [
    {
     "data": {
      "text/plain": [
       "<matplotlib.collections.PathCollection at 0x132c532f588>"
      ]
     },
     "execution_count": 82,
     "metadata": {},
     "output_type": "execute_result"
    },
    {
     "data": {
      "image/png": "[encoded data removed]",
      "text/plain": [
       "<Figure size 432x288 with 1 Axes>"
      ]
     },
     "metadata": {
      "needs_background": "light"
     },
     "output_type": "display_data"
    }
   ],
   "source": [
    "# confirmed and recovered showing positive relation \n",
    "plt.scatter(x=\"Confirmed\", y=\"Recovered\",data=df)"
   ]
  },
  {
   "cell_type": "code",
   "execution_count": 83,
   "metadata": {},
   "outputs": [
    {
     "data": {
      "text/plain": [
       "<matplotlib.collections.PathCollection at 0x132c53e4bc8>"
      ]
     },
     "execution_count": 83,
     "metadata": {},
     "output_type": "execute_result"
    },
    {
     "data": {
      "image/png": "[encoded data removed]",
      "text/plain": [
       "<Figure size 432x288 with 1 Axes>"
      ]
     },
     "metadata": {
      "needs_background": "light"
     },
     "output_type": "display_data"
    }
   ],
   "source": [
    "plt.scatter(x=\"Confirmed\", y=\"Deaths\",data=df)"
   ]
  },
  {
   "cell_type": "code",
   "execution_count": 84,
   "metadata": {},
   "outputs": [
    {
     "data": {
      "text/plain": [
       "<matplotlib.collections.PathCollection at 0x132c545c708>"
      ]
     },
     "execution_count": 84,
     "metadata": {},
     "output_type": "execute_result"
    },
    {
     "data": {
      "image/png": "[encoded data removed]",
      "text/plain": [
       "<Figure size 432x288 with 1 Axes>"
      ]
     },
     "metadata": {
      "needs_background": "light"
     },
     "output_type": "display_data"
    }
   ],
   "source": [
    "plt.scatter(x=\"Recovered\", y=\"Deaths\",data=df)"
   ]
  },
  {
   "cell_type": "code",
   "execution_count": 85,
   "metadata": {},
   "outputs": [
    {
     "data": {
      "text/plain": [
       "<matplotlib.axes._subplots.AxesSubplot at 0x132c5480508>"
      ]
     },
     "execution_count": 85,
     "metadata": {},
     "output_type": "execute_result"
    },
    {
     "data": {
      "image/png": "[encoded data removed]",
      "text/plain": [
       "<Figure size 432x288 with 1 Axes>"
      ]
     },
     "metadata": {
      "needs_background": "light"
     },
     "output_type": "display_data"
    }
   ],
   "source": [
    "sns.lineplot(x=\"Recovered\", y=\"Deaths\",data=df)"
   ]
  },
  {
   "cell_type": "code",
   "execution_count": 86,
   "metadata": {},
   "outputs": [
    {
     "data": {
      "text/plain": [
       "<matplotlib.axes._subplots.AxesSubplot at 0x132c5582408>"
      ]
     },
     "execution_count": 86,
     "metadata": {},
     "output_type": "execute_result"
    },
    {
     "data": {
      "image/png": "[encoded data removed]",
      "text/plain": [
       "<Figure size 432x288 with 1 Axes>"
      ]
     },
     "metadata": {
      "needs_background": "light"
     },
     "output_type": "display_data"
    }
   ],
   "source": [
    "sns.lineplot(x=\"Confirmed\", y=\"Deaths\",data=df)"
   ]
  },
  {
   "cell_type": "code",
   "execution_count": 87,
   "metadata": {},
   "outputs": [],
   "source": [
    "# Droping date and country columns  \n",
    "df2=df.drop([\"Date\",\"Country\"],axis=1)"
   ]
  },
  {
   "cell_type": "code",
   "execution_count": 88,
   "metadata": {},
   "outputs": [
    {
     "data": {
      "text/html": [
       "<div>\n",
       "<style scoped>\n",
       "    .dataframe tbody tr th:only-of-type {\n",
       "        vertical-align: middle;\n",
       "    }\n",
       "\n",
       "    .dataframe tbody tr th {\n",
       "        vertical-align: top;\n",
       "    }\n",
       "\n",
       "    .dataframe thead th {\n",
       "        text-align: right;\n",
       "    }\n",
       "</style>\n",
       "<table border=\"1\" class=\"dataframe\">\n",
       "  <thead>\n",
       "    <tr style=\"text-align: right;\">\n",
       "      <th></th>\n",
       "      <th>Confirmed</th>\n",
       "      <th>Recovered</th>\n",
       "      <th>Deaths</th>\n",
       "    </tr>\n",
       "  </thead>\n",
       "  <tbody>\n",
       "    <tr>\n",
       "      <th>0</th>\n",
       "      <td>0</td>\n",
       "      <td>0</td>\n",
       "      <td>0</td>\n",
       "    </tr>\n",
       "    <tr>\n",
       "      <th>1</th>\n",
       "      <td>0</td>\n",
       "      <td>0</td>\n",
       "      <td>0</td>\n",
       "    </tr>\n",
       "    <tr>\n",
       "      <th>2</th>\n",
       "      <td>0</td>\n",
       "      <td>0</td>\n",
       "      <td>0</td>\n",
       "    </tr>\n",
       "    <tr>\n",
       "      <th>3</th>\n",
       "      <td>0</td>\n",
       "      <td>0</td>\n",
       "      <td>0</td>\n",
       "    </tr>\n",
       "    <tr>\n",
       "      <th>4</th>\n",
       "      <td>0</td>\n",
       "      <td>0</td>\n",
       "      <td>0</td>\n",
       "    </tr>\n",
       "    <tr>\n",
       "      <th>...</th>\n",
       "      <td>...</td>\n",
       "      <td>...</td>\n",
       "      <td>...</td>\n",
       "    </tr>\n",
       "    <tr>\n",
       "      <th>23683</th>\n",
       "      <td>429</td>\n",
       "      <td>365</td>\n",
       "      <td>3</td>\n",
       "    </tr>\n",
       "    <tr>\n",
       "      <th>23684</th>\n",
       "      <td>9</td>\n",
       "      <td>6</td>\n",
       "      <td>1</td>\n",
       "    </tr>\n",
       "    <tr>\n",
       "      <th>23685</th>\n",
       "      <td>249</td>\n",
       "      <td>10</td>\n",
       "      <td>49</td>\n",
       "    </tr>\n",
       "    <tr>\n",
       "      <th>23686</th>\n",
       "      <td>920</td>\n",
       "      <td>336</td>\n",
       "      <td>7</td>\n",
       "    </tr>\n",
       "    <tr>\n",
       "      <th>23687</th>\n",
       "      <td>56</td>\n",
       "      <td>25</td>\n",
       "      <td>4</td>\n",
       "    </tr>\n",
       "  </tbody>\n",
       "</table>\n",
       "<p>23688 rows × 3 columns</p>\n",
       "</div>"
      ],
      "text/plain": [
       "       Confirmed  Recovered  Deaths\n",
       "0              0          0       0\n",
       "1              0          0       0\n",
       "2              0          0       0\n",
       "3              0          0       0\n",
       "4              0          0       0\n",
       "...          ...        ...     ...\n",
       "23683        429        365       3\n",
       "23684          9          6       1\n",
       "23685        249         10      49\n",
       "23686        920        336       7\n",
       "23687         56         25       4\n",
       "\n",
       "[23688 rows x 3 columns]"
      ]
     },
     "execution_count": 88,
     "metadata": {},
     "output_type": "execute_result"
    }
   ],
   "source": [
    "df2"
   ]
  },
  {
   "cell_type": "markdown",
   "metadata": {},
   "source": [
    "# Importing zscore for  checking outliners and removing outliners  using  zscore\n"
   ]
  },
  {
   "cell_type": "code",
   "execution_count": null,
   "metadata": {},
   "outputs": [],
   "source": [
    "from scipy.stats import zscore\n",
    "z=np.abs(zscore(df2))\n",
    "z"
   ]
  },
  {
   "cell_type": "code",
   "execution_count": 90,
   "metadata": {},
   "outputs": [],
   "source": [
    "# removing outliners\n",
    "df3=df2[(z<3).all(axis=1)]"
   ]
  },
  {
   "cell_type": "code",
   "execution_count": 91,
   "metadata": {},
   "outputs": [
    {
     "data": {
      "text/plain": [
       "Confirmed    6.906829\n",
       "Recovered    7.472281\n",
       "Deaths       9.729360\n",
       "dtype: float64"
      ]
     },
     "execution_count": 91,
     "metadata": {},
     "output_type": "execute_result"
    }
   ],
   "source": [
    "# Checking skewness\n",
    "df3.skew()"
   ]
  },
  {
   "cell_type": "code",
   "execution_count": 92,
   "metadata": {},
   "outputs": [],
   "source": [
    "# Removing Skewness\n",
    "import numpy as np\n",
    "for col in df3.columns:\n",
    "    if df3.skew().loc[col]>0.55:\n",
    "         df3[col]=np.log1p(df3[col])"
   ]
  },
  {
   "cell_type": "code",
   "execution_count": 93,
   "metadata": {},
   "outputs": [
    {
     "data": {
      "text/plain": [
       "Confirmed    0.473662\n",
       "Recovered    0.944097\n",
       "Deaths       1.461751\n",
       "dtype: float64"
      ]
     },
     "execution_count": 93,
     "metadata": {},
     "output_type": "execute_result"
    }
   ],
   "source": [
    "df3.skew()"
   ]
  },
  {
   "cell_type": "code",
   "execution_count": 94,
   "metadata": {},
   "outputs": [
    {
     "name": "stdout",
     "output_type": "stream",
     "text": [
      "StandardScaler(copy=True, with_mean=True, with_std=True)\n"
     ]
    }
   ],
   "source": [
    "# using standard scale to scale the data \n",
    "from sklearn.preprocessing import StandardScaler\n",
    "scaler = StandardScaler()\n",
    "print(scaler.fit(df3))"
   ]
  },
  {
   "cell_type": "code",
   "execution_count": 95,
   "metadata": {},
   "outputs": [
    {
     "data": {
      "text/plain": [
       "Confirmed    0.473662\n",
       "Recovered    0.944097\n",
       "Deaths       1.461751\n",
       "dtype: float64"
      ]
     },
     "execution_count": 95,
     "metadata": {},
     "output_type": "execute_result"
    }
   ],
   "source": [
    "# Again checking Skewness\n",
    "df3.skew()"
   ]
  },
  {
   "cell_type": "code",
   "execution_count": 96,
   "metadata": {},
   "outputs": [],
   "source": [
    "import numpy as np\n",
    "for col in df3.columns:\n",
    "    if df3.skew().loc[col]>0.55:\n",
    "         df3[col]=np.log1p(df3[col])"
   ]
  },
  {
   "cell_type": "code",
   "execution_count": 97,
   "metadata": {},
   "outputs": [
    {
     "data": {
      "text/plain": [
       "Confirmed    0.473662\n",
       "Recovered    0.364613\n",
       "Deaths       0.762200\n",
       "dtype: float64"
      ]
     },
     "execution_count": 97,
     "metadata": {},
     "output_type": "execute_result"
    }
   ],
   "source": [
    "df3.skew()"
   ]
  },
  {
   "cell_type": "code",
   "execution_count": 98,
   "metadata": {},
   "outputs": [],
   "source": [
    "# removing Skewness\n",
    "import numpy as np\n",
    "for col in df3.columns:\n",
    "    if df3.skew().loc[col]>0.55:\n",
    "         df3[col]=np.log1p(df3[col])"
   ]
  },
  {
   "cell_type": "code",
   "execution_count": 99,
   "metadata": {},
   "outputs": [
    {
     "data": {
      "text/plain": [
       "Confirmed    0.473662\n",
       "Recovered    0.364613\n",
       "Deaths       0.543670\n",
       "dtype: float64"
      ]
     },
     "execution_count": 99,
     "metadata": {},
     "output_type": "execute_result"
    }
   ],
   "source": [
    "df3.skew()"
   ]
  },
  {
   "cell_type": "markdown",
   "metadata": {},
   "source": [
    "# Splitting Data into target and Input"
   ]
  },
  {
   "cell_type": "code",
   "execution_count": 100,
   "metadata": {},
   "outputs": [
    {
     "data": {
      "text/html": [
       "<div>\n",
       "<style scoped>\n",
       "    .dataframe tbody tr th:only-of-type {\n",
       "        vertical-align: middle;\n",
       "    }\n",
       "\n",
       "    .dataframe tbody tr th {\n",
       "        vertical-align: top;\n",
       "    }\n",
       "\n",
       "    .dataframe thead th {\n",
       "        text-align: right;\n",
       "    }\n",
       "</style>\n",
       "<table border=\"1\" class=\"dataframe\">\n",
       "  <thead>\n",
       "    <tr style=\"text-align: right;\">\n",
       "      <th></th>\n",
       "      <th>Confirmed</th>\n",
       "      <th>Recovered</th>\n",
       "    </tr>\n",
       "  </thead>\n",
       "  <tbody>\n",
       "    <tr>\n",
       "      <th>0</th>\n",
       "      <td>0.000000</td>\n",
       "      <td>0.000000</td>\n",
       "    </tr>\n",
       "    <tr>\n",
       "      <th>1</th>\n",
       "      <td>0.000000</td>\n",
       "      <td>0.000000</td>\n",
       "    </tr>\n",
       "    <tr>\n",
       "      <th>2</th>\n",
       "      <td>0.000000</td>\n",
       "      <td>0.000000</td>\n",
       "    </tr>\n",
       "    <tr>\n",
       "      <th>3</th>\n",
       "      <td>0.000000</td>\n",
       "      <td>0.000000</td>\n",
       "    </tr>\n",
       "    <tr>\n",
       "      <th>4</th>\n",
       "      <td>0.000000</td>\n",
       "      <td>0.000000</td>\n",
       "    </tr>\n",
       "    <tr>\n",
       "      <th>...</th>\n",
       "      <td>...</td>\n",
       "      <td>...</td>\n",
       "    </tr>\n",
       "    <tr>\n",
       "      <th>23683</th>\n",
       "      <td>6.063785</td>\n",
       "      <td>1.931903</td>\n",
       "    </tr>\n",
       "    <tr>\n",
       "      <th>23684</th>\n",
       "      <td>2.302585</td>\n",
       "      <td>1.080418</td>\n",
       "    </tr>\n",
       "    <tr>\n",
       "      <th>23685</th>\n",
       "      <td>5.521461</td>\n",
       "      <td>1.223156</td>\n",
       "    </tr>\n",
       "    <tr>\n",
       "      <th>23686</th>\n",
       "      <td>6.825460</td>\n",
       "      <td>1.919872</td>\n",
       "    </tr>\n",
       "    <tr>\n",
       "      <th>23687</th>\n",
       "      <td>4.043051</td>\n",
       "      <td>1.448822</td>\n",
       "    </tr>\n",
       "  </tbody>\n",
       "</table>\n",
       "<p>23177 rows × 2 columns</p>\n",
       "</div>"
      ],
      "text/plain": [
       "       Confirmed  Recovered\n",
       "0       0.000000   0.000000\n",
       "1       0.000000   0.000000\n",
       "2       0.000000   0.000000\n",
       "3       0.000000   0.000000\n",
       "4       0.000000   0.000000\n",
       "...          ...        ...\n",
       "23683   6.063785   1.931903\n",
       "23684   2.302585   1.080418\n",
       "23685   5.521461   1.223156\n",
       "23686   6.825460   1.919872\n",
       "23687   4.043051   1.448822\n",
       "\n",
       "[23177 rows x 2 columns]"
      ]
     },
     "execution_count": 100,
     "metadata": {},
     "output_type": "execute_result"
    }
   ],
   "source": [
    "x=df3.iloc[:,0:-1]\n",
    "x"
   ]
  },
  {
   "cell_type": "code",
   "execution_count": 101,
   "metadata": {},
   "outputs": [
    {
     "data": {
      "text/plain": [
       "0        0.000000\n",
       "1        0.000000\n",
       "2        0.000000\n",
       "3        0.000000\n",
       "4        0.000000\n",
       "           ...   \n",
       "23683    0.625800\n",
       "23684    0.423036\n",
       "23685    0.952309\n",
       "23686    0.753653\n",
       "23687    0.672503\n",
       "Name: Deaths, Length: 23177, dtype: float64"
      ]
     },
     "execution_count": 101,
     "metadata": {},
     "output_type": "execute_result"
    }
   ],
   "source": [
    "y=df3.iloc[:,-1]\n",
    "y"
   ]
  },
  {
   "cell_type": "markdown",
   "metadata": {},
   "source": [
    "# Importing Necessary libraries"
   ]
  },
  {
   "cell_type": "code",
   "execution_count": 102,
   "metadata": {},
   "outputs": [],
   "source": [
    "from sklearn.metrics import mean_absolute_error\n",
    "from sklearn.metrics import mean_squared_error\n",
    "from sklearn.metrics import r2_score\n",
    "from sklearn.model_selection import train_test_split\n",
    "from sklearn.svm import SVR\n",
    "from sklearn.model_selection import GridSearchCV\n",
    "from sklearn.neighbors import KNeighborsRegressor\n",
    "from sklearn.tree import DecisionTreeRegressor\n",
    "from sklearn.model_selection import cross_val_score\n",
    "from sklearn.ensemble import GradientBoostingRegressor\n",
    "from sklearn.linear_model import Lasso"
   ]
  },
  {
   "cell_type": "code",
   "execution_count": 103,
   "metadata": {},
   "outputs": [],
   "source": [
    "\n",
    "def maxr2_score(regr,x,y):\n",
    "    max_r_score=0\n",
    "    for i in range(42,100):\n",
    "        x_train,x_test,y_train,y_test=train_test_split(x,y,random_state= i ,test_size=0.20)\n",
    "        regr.fit(x,y)\n",
    "        y_pred=regr.predict(x_test)\n",
    "        r2_scr=r2_score(y_test,y_pred)\n",
    "        print(\"r2 score corresponding to\",i,\"is\",r2_scr)\n",
    "        if r2_scr>max_r_score:\n",
    "            max_r_score=r2_scr\n",
    "            final_i=i\n",
    "    print(\"max r2 score corresponding to\",final_i,\"is\",max_r_score)\n",
    "    return final_i\n"
   ]
  },
  {
   "cell_type": "code",
   "execution_count": 104,
   "metadata": {},
   "outputs": [
    {
     "name": "stdout",
     "output_type": "stream",
     "text": [
      "r2 score corresponding to 42 is 0.8288228314315638\n",
      "r2 score corresponding to 43 is 0.837835394723689\n",
      "r2 score corresponding to 44 is 0.8378704804344733\n",
      "r2 score corresponding to 45 is 0.835325305656988\n",
      "r2 score corresponding to 46 is 0.838796583288584\n",
      "r2 score corresponding to 47 is 0.8307822923459331\n",
      "r2 score corresponding to 48 is 0.8348951882906259\n",
      "r2 score corresponding to 49 is 0.8351811009394344\n",
      "r2 score corresponding to 50 is 0.8389161364557667\n",
      "r2 score corresponding to 51 is 0.8364072142189558\n",
      "r2 score corresponding to 52 is 0.8330860896061212\n",
      "r2 score corresponding to 53 is 0.8398236667566541\n",
      "r2 score corresponding to 54 is 0.8392004877875181\n",
      "r2 score corresponding to 55 is 0.8421263181982321\n",
      "r2 score corresponding to 56 is 0.8461072424141691\n",
      "r2 score corresponding to 57 is 0.8304640164746645\n",
      "r2 score corresponding to 58 is 0.8454018808833113\n",
      "r2 score corresponding to 59 is 0.8383175897525028\n",
      "r2 score corresponding to 60 is 0.8260162961761579\n",
      "r2 score corresponding to 61 is 0.8403692120508705\n",
      "r2 score corresponding to 62 is 0.8456905692513252\n",
      "r2 score corresponding to 63 is 0.839085557179782\n",
      "r2 score corresponding to 64 is 0.8426660042248887\n",
      "r2 score corresponding to 65 is 0.8419187794081175\n",
      "r2 score corresponding to 66 is 0.8407424647417803\n",
      "r2 score corresponding to 67 is 0.8382344379936248\n",
      "r2 score corresponding to 68 is 0.8382102040507712\n",
      "r2 score corresponding to 69 is 0.8369689971052473\n",
      "r2 score corresponding to 70 is 0.8431727655865041\n",
      "r2 score corresponding to 71 is 0.844766868817411\n",
      "r2 score corresponding to 72 is 0.8412949586104823\n",
      "r2 score corresponding to 73 is 0.8440436016301384\n",
      "r2 score corresponding to 74 is 0.841130487304387\n",
      "r2 score corresponding to 75 is 0.8407854661509684\n",
      "r2 score corresponding to 76 is 0.8399894547088498\n",
      "r2 score corresponding to 77 is 0.8362088806610255\n",
      "r2 score corresponding to 78 is 0.8374086310395423\n",
      "r2 score corresponding to 79 is 0.8412782011030575\n",
      "r2 score corresponding to 80 is 0.8341469471325311\n",
      "r2 score corresponding to 81 is 0.8355856244974136\n",
      "r2 score corresponding to 82 is 0.8363776413258374\n",
      "r2 score corresponding to 83 is 0.8391159898909873\n",
      "r2 score corresponding to 84 is 0.8384931968102485\n",
      "r2 score corresponding to 85 is 0.8378628485023484\n",
      "r2 score corresponding to 86 is 0.8331297927142453\n",
      "r2 score corresponding to 87 is 0.8347442422163506\n",
      "r2 score corresponding to 88 is 0.8388391154158283\n",
      "r2 score corresponding to 89 is 0.8402554447871499\n",
      "r2 score corresponding to 90 is 0.8385735970381809\n",
      "r2 score corresponding to 91 is 0.8348174603217543\n",
      "r2 score corresponding to 92 is 0.8311968675514787\n",
      "r2 score corresponding to 93 is 0.8392880932699844\n",
      "r2 score corresponding to 94 is 0.8362729426807799\n",
      "r2 score corresponding to 95 is 0.8360529001461815\n",
      "r2 score corresponding to 96 is 0.8418365833784778\n",
      "r2 score corresponding to 97 is 0.841376989123208\n",
      "r2 score corresponding to 98 is 0.8327392099205909\n",
      "r2 score corresponding to 99 is 0.8343294401534602\n",
      "max r2 score corresponding to 56 is 0.8461072424141691\n"
     ]
    }
   ],
   "source": [
    "# Using Linear Regression algorithim \n",
    "from sklearn.linear_model import LinearRegression\n",
    "lreg=LinearRegression()\n",
    "r_state=maxr2_score(lreg,x,y)"
   ]
  },
  {
   "cell_type": "code",
   "execution_count": 105,
   "metadata": {},
   "outputs": [
    {
     "name": "stdout",
     "output_type": "stream",
     "text": [
      "Mean r2 score for Linear Regression: 0.4509265216298937\n",
      "standard deviation in r2 score for Linear Regression 0.3220225330081511\n",
      "\n"
     ]
    }
   ],
   "source": [
    "from sklearn.model_selection import cross_val_score\n",
    "print(\"Mean r2 score for Linear Regression:\",cross_val_score(lreg,x,y,cv=5,scoring=\"r2\").mean())\n",
    "print(\"standard deviation in r2 score for Linear Regression\",cross_val_score(lreg,x,y,cv=5,scoring=\"r2\").std())\n",
    "print()"
   ]
  },
  {
   "cell_type": "code",
   "execution_count": 106,
   "metadata": {},
   "outputs": [
    {
     "name": "stdout",
     "output_type": "stream",
     "text": [
      "{'n_neighbors': 10}\n",
      "\n",
      "\n",
      "{'alpha': 0.1}\n",
      "\n",
      "\n",
      "{'criterion': 'mse'}\n",
      "\n",
      "\n"
     ]
    }
   ],
   "source": [
    "# using Grid search CV to find best  parameters of KNN ,Lasso ,Decision Tree regressor .\n",
    "knn=KNeighborsRegressor()\n",
    "parameters={'n_neighbors':(1,10)}\n",
    "gd=GridSearchCV(knn,parameters)\n",
    "gd.fit(x,y)\n",
    "print(gd.best_params_)\n",
    "print(\"\\n\")\n",
    "\n",
    "lsreg=Lasso()\n",
    "parameters={\"alpha\":[0.001,0.01,0.1,1]}\n",
    "gd=GridSearchCV(lsreg,parameters)\n",
    "gd.fit(x,y)\n",
    "print(gd.best_params_)\n",
    "print(\"\\n\")\n",
    "\n",
    "dtc=DecisionTreeRegressor()\n",
    "parameters={'criterion':('mse', 'friedman_mse', 'mae')}\n",
    "gd=GridSearchCV(dtc,parameters)\n",
    "gd.fit(x,y)\n",
    "print(gd.best_params_)\n",
    "print(\"\\n\")\n"
   ]
  },
  {
   "cell_type": "code",
   "execution_count": 107,
   "metadata": {},
   "outputs": [
    {
     "name": "stdout",
     "output_type": "stream",
     "text": [
      "r2 score corresponding to 42 is 0.8948064733185501\n",
      "r2 score corresponding to 43 is 0.9030658881265164\n",
      "r2 score corresponding to 44 is 0.9053684153120807\n",
      "r2 score corresponding to 45 is 0.8985220393073972\n",
      "r2 score corresponding to 46 is 0.9008927598239743\n",
      "r2 score corresponding to 47 is 0.8954188207952078\n",
      "r2 score corresponding to 48 is 0.8946220578962806\n",
      "r2 score corresponding to 49 is 0.9062412280649893\n",
      "r2 score corresponding to 50 is 0.9007941291991983\n",
      "r2 score corresponding to 51 is 0.9004086349027274\n",
      "r2 score corresponding to 52 is 0.9039595726901659\n",
      "r2 score corresponding to 53 is 0.9029184970490849\n",
      "r2 score corresponding to 54 is 0.9027532920870871\n",
      "r2 score corresponding to 55 is 0.9001769465692561\n",
      "r2 score corresponding to 56 is 0.9106620795478169\n",
      "r2 score corresponding to 57 is 0.8984799059330976\n",
      "r2 score corresponding to 58 is 0.9089655196812946\n",
      "r2 score corresponding to 59 is 0.9005968361093619\n",
      "r2 score corresponding to 60 is 0.896258190710191\n",
      "r2 score corresponding to 61 is 0.9034747724532092\n",
      "r2 score corresponding to 62 is 0.9104457286500973\n",
      "r2 score corresponding to 63 is 0.9008276610536218\n",
      "r2 score corresponding to 64 is 0.9030828625490422\n",
      "r2 score corresponding to 65 is 0.8998611105672687\n",
      "r2 score corresponding to 66 is 0.9044788446296383\n",
      "r2 score corresponding to 67 is 0.9039044785699225\n",
      "r2 score corresponding to 68 is 0.9017667509091972\n",
      "r2 score corresponding to 69 is 0.903707926988998\n",
      "r2 score corresponding to 70 is 0.9019644149651437\n",
      "r2 score corresponding to 71 is 0.9006481713180031\n",
      "r2 score corresponding to 72 is 0.9071603635539467\n",
      "r2 score corresponding to 73 is 0.905034191450012\n",
      "r2 score corresponding to 74 is 0.9055730682556982\n",
      "r2 score corresponding to 75 is 0.902941324184296\n",
      "r2 score corresponding to 76 is 0.903540981016478\n",
      "r2 score corresponding to 77 is 0.9015255860749107\n",
      "r2 score corresponding to 78 is 0.9042314574385416\n",
      "r2 score corresponding to 79 is 0.9008990246871084\n",
      "r2 score corresponding to 80 is 0.9012470000997789\n",
      "r2 score corresponding to 81 is 0.900137121139131\n",
      "r2 score corresponding to 82 is 0.9025948931006728\n",
      "r2 score corresponding to 83 is 0.9021144559219209\n",
      "r2 score corresponding to 84 is 0.8955400457812751\n",
      "r2 score corresponding to 85 is 0.9041758819595983\n",
      "r2 score corresponding to 86 is 0.8982260199743456\n",
      "r2 score corresponding to 87 is 0.9013813514499575\n",
      "r2 score corresponding to 88 is 0.9007168004291901\n",
      "r2 score corresponding to 89 is 0.9002739501002963\n",
      "r2 score corresponding to 90 is 0.905769318581429\n",
      "r2 score corresponding to 91 is 0.9012982338490605\n",
      "r2 score corresponding to 92 is 0.8965303743991472\n",
      "r2 score corresponding to 93 is 0.9064440500924087\n",
      "r2 score corresponding to 94 is 0.8977370785594405\n",
      "r2 score corresponding to 95 is 0.9058397584866527\n",
      "r2 score corresponding to 96 is 0.9035880942395321\n",
      "r2 score corresponding to 97 is 0.9057891706244265\n",
      "r2 score corresponding to 98 is 0.8991614407376513\n",
      "r2 score corresponding to 99 is 0.9001818339512146\n",
      "max r2 score corresponding to 56 is 0.9106620795478169\n"
     ]
    }
   ],
   "source": [
    "# Finding best r2 score value for KNeighbors regressor \n",
    "knn=KNeighborsRegressor(n_neighbors=10)\n",
    "i=maxr2_score(knn,x,y)\n",
    "\n"
   ]
  },
  {
   "cell_type": "code",
   "execution_count": 108,
   "metadata": {},
   "outputs": [
    {
     "name": "stdout",
     "output_type": "stream",
     "text": [
      "Mean r2 score for KNeighbor  Regression: 0.6967070504477958\n",
      "standard deviation in r2 score for KNeighbor   Regression 0.06049135922527244\n"
     ]
    }
   ],
   "source": [
    "from sklearn.model_selection import cross_val_score\n",
    "print(\"Mean r2 score for KNeighbor  Regression:\",cross_val_score(knn,x,y,cv=135,scoring=\"r2\").mean())\n",
    "print(\"standard deviation in r2 score for KNeighbor   Regression\",cross_val_score(knn,x,y,cv=5,scoring=\"r2\").std())"
   ]
  },
  {
   "cell_type": "code",
   "execution_count": 109,
   "metadata": {},
   "outputs": [
    {
     "name": "stdout",
     "output_type": "stream",
     "text": [
      "r2 score corresponding to 42 is 0.8259546723609017\n",
      "r2 score corresponding to 43 is 0.8342513272293481\n",
      "r2 score corresponding to 44 is 0.8349598766264842\n",
      "r2 score corresponding to 45 is 0.830160276901268\n",
      "r2 score corresponding to 46 is 0.8360623213966344\n",
      "r2 score corresponding to 47 is 0.8274880559246282\n",
      "r2 score corresponding to 48 is 0.8329760514356431\n",
      "r2 score corresponding to 49 is 0.8319217956706791\n",
      "r2 score corresponding to 50 is 0.8349311279890292\n",
      "r2 score corresponding to 51 is 0.8333109650112329\n",
      "r2 score corresponding to 52 is 0.8306897621753645\n",
      "r2 score corresponding to 53 is 0.8368426410720577\n",
      "r2 score corresponding to 54 is 0.8366399457212268\n",
      "r2 score corresponding to 55 is 0.8397610932512551\n",
      "r2 score corresponding to 56 is 0.8424619527648438\n",
      "r2 score corresponding to 57 is 0.8278190572418105\n",
      "r2 score corresponding to 58 is 0.841628527726132\n",
      "r2 score corresponding to 59 is 0.8361976872680107\n",
      "r2 score corresponding to 60 is 0.8231232128819024\n",
      "r2 score corresponding to 61 is 0.8384740362264452\n",
      "r2 score corresponding to 62 is 0.842892386453962\n",
      "r2 score corresponding to 63 is 0.8356065503353108\n",
      "r2 score corresponding to 64 is 0.8394658784072436\n",
      "r2 score corresponding to 65 is 0.8392610232470089\n",
      "r2 score corresponding to 66 is 0.8374652093862283\n",
      "r2 score corresponding to 67 is 0.8358528475214362\n",
      "r2 score corresponding to 68 is 0.834313456865119\n",
      "r2 score corresponding to 69 is 0.8344390985565797\n",
      "r2 score corresponding to 70 is 0.8389969723687983\n",
      "r2 score corresponding to 71 is 0.8413603738450136\n",
      "r2 score corresponding to 72 is 0.8387336373846048\n",
      "r2 score corresponding to 73 is 0.8396058566361233\n",
      "r2 score corresponding to 74 is 0.8382784553162428\n",
      "r2 score corresponding to 75 is 0.8381311494984844\n",
      "r2 score corresponding to 76 is 0.8366284266428131\n",
      "r2 score corresponding to 77 is 0.8338669872090285\n",
      "r2 score corresponding to 78 is 0.8364121116149723\n",
      "r2 score corresponding to 79 is 0.8374963069959802\n",
      "r2 score corresponding to 80 is 0.8318860382678114\n",
      "r2 score corresponding to 81 is 0.833307916487914\n",
      "r2 score corresponding to 82 is 0.8332518825067314\n",
      "r2 score corresponding to 83 is 0.8354798995260758\n",
      "r2 score corresponding to 84 is 0.8349000452276376\n",
      "r2 score corresponding to 85 is 0.834906082896906\n",
      "r2 score corresponding to 86 is 0.8313213420046153\n",
      "r2 score corresponding to 87 is 0.8325849779777598\n",
      "r2 score corresponding to 88 is 0.8354716193915429\n",
      "r2 score corresponding to 89 is 0.8365822508513153\n",
      "r2 score corresponding to 90 is 0.8357543012859394\n",
      "r2 score corresponding to 91 is 0.8311111256681644\n",
      "r2 score corresponding to 92 is 0.8297308318539064\n",
      "r2 score corresponding to 93 is 0.8377894104342445\n",
      "r2 score corresponding to 94 is 0.8338359199819109\n",
      "r2 score corresponding to 95 is 0.8336706759970945\n",
      "r2 score corresponding to 96 is 0.8391284384138914\n",
      "r2 score corresponding to 97 is 0.8379406249961864\n",
      "r2 score corresponding to 98 is 0.8301423727713528\n",
      "r2 score corresponding to 99 is 0.8315949394349684\n",
      "max r2 score corresponding to 62 is 0.842892386453962\n"
     ]
    }
   ],
   "source": [
    "# Finding best r2 score value for Lasso Regressor \n",
    "lsreg=Lasso(alpha=0.01)\n",
    "i=maxr2_score(lsreg,x,y)"
   ]
  },
  {
   "cell_type": "code",
   "execution_count": 110,
   "metadata": {},
   "outputs": [
    {
     "name": "stdout",
     "output_type": "stream",
     "text": [
      "Mean r2 score for Lasso Regression: 0.4885237359902433\n",
      "standard deviation in r2 score for Lasso Regression 0.3168711887420749\n"
     ]
    }
   ],
   "source": [
    "from sklearn.model_selection import cross_val_score\n",
    "print(\"Mean r2 score for Lasso Regression:\",cross_val_score(lsreg,x,y,cv=63,scoring=\"r2\").mean())\n",
    "print(\"standard deviation in r2 score for Lasso Regression\",cross_val_score(lsreg,x,y,cv=5,scoring=\"r2\").std())"
   ]
  },
  {
   "cell_type": "code",
   "execution_count": 111,
   "metadata": {},
   "outputs": [
    {
     "name": "stdout",
     "output_type": "stream",
     "text": [
      "r2 score corresponding to 42 is 0.9671797775664485\n",
      "r2 score corresponding to 43 is 0.9652437733873903\n",
      "r2 score corresponding to 44 is 0.9701891704134887\n",
      "r2 score corresponding to 45 is 0.9681150453228515\n",
      "r2 score corresponding to 46 is 0.9676022293196062\n",
      "r2 score corresponding to 47 is 0.9696615794475916\n",
      "r2 score corresponding to 48 is 0.9629936433087999\n",
      "r2 score corresponding to 49 is 0.9711958192207722\n",
      "r2 score corresponding to 50 is 0.9675459252224918\n",
      "r2 score corresponding to 51 is 0.9666724784491351\n",
      "r2 score corresponding to 52 is 0.9674731679212255\n",
      "r2 score corresponding to 53 is 0.9694774177680744\n",
      "r2 score corresponding to 54 is 0.9647231299814866\n",
      "r2 score corresponding to 55 is 0.9684950328018754\n",
      "r2 score corresponding to 56 is 0.9695596358445266\n",
      "r2 score corresponding to 57 is 0.9686670524165403\n",
      "r2 score corresponding to 58 is 0.968408486057528\n",
      "r2 score corresponding to 59 is 0.9680859466923113\n",
      "r2 score corresponding to 60 is 0.9643853947935406\n",
      "r2 score corresponding to 61 is 0.9684705441910486\n",
      "r2 score corresponding to 62 is 0.9704153442189498\n",
      "r2 score corresponding to 63 is 0.9664191618674172\n",
      "r2 score corresponding to 64 is 0.9672374336059447\n",
      "r2 score corresponding to 65 is 0.9688256269668889\n",
      "r2 score corresponding to 66 is 0.9709272174856494\n",
      "r2 score corresponding to 67 is 0.9675604711799721\n",
      "r2 score corresponding to 68 is 0.9673166427134576\n",
      "r2 score corresponding to 69 is 0.9697664582053181\n",
      "r2 score corresponding to 70 is 0.967641441208775\n",
      "r2 score corresponding to 71 is 0.9659612139158383\n",
      "r2 score corresponding to 72 is 0.9700604027583083\n",
      "r2 score corresponding to 73 is 0.9677475635095591\n",
      "r2 score corresponding to 74 is 0.9677235838640686\n",
      "r2 score corresponding to 75 is 0.9686321360002531\n",
      "r2 score corresponding to 76 is 0.9692360133863104\n",
      "r2 score corresponding to 77 is 0.969633385376914\n",
      "r2 score corresponding to 78 is 0.9694326212530283\n",
      "r2 score corresponding to 79 is 0.9717210701821536\n",
      "r2 score corresponding to 80 is 0.9700845004564969\n",
      "r2 score corresponding to 81 is 0.9682336164772983\n",
      "r2 score corresponding to 82 is 0.9667733045258647\n",
      "r2 score corresponding to 83 is 0.9673724075173115\n",
      "r2 score corresponding to 84 is 0.9653611740175617\n",
      "r2 score corresponding to 85 is 0.9684201015246351\n",
      "r2 score corresponding to 86 is 0.9697165608793819\n",
      "r2 score corresponding to 87 is 0.9693851584605525\n",
      "r2 score corresponding to 88 is 0.9683846271328516\n",
      "r2 score corresponding to 89 is 0.9628785994156359\n",
      "r2 score corresponding to 90 is 0.9682340063800455\n",
      "r2 score corresponding to 91 is 0.9685151460934854\n",
      "r2 score corresponding to 92 is 0.9666313870673738\n",
      "r2 score corresponding to 93 is 0.9688513343160697\n",
      "r2 score corresponding to 94 is 0.9645130232514536\n",
      "r2 score corresponding to 95 is 0.9668222405489297\n",
      "r2 score corresponding to 96 is 0.9694483101846991\n",
      "r2 score corresponding to 97 is 0.9667013017289876\n",
      "r2 score corresponding to 98 is 0.9667541123730521\n",
      "r2 score corresponding to 99 is 0.9675668879510835\n",
      "max r2 score corresponding to 79 is 0.9717210701821536\n"
     ]
    }
   ],
   "source": [
    "# Finding best r2 score value for DecisionTreeRegressor\n",
    "dtc=DecisionTreeRegressor(criterion = 'friedman_mse')\n",
    "i=maxr2_score(dtc,x,y)"
   ]
  },
  {
   "cell_type": "code",
   "execution_count": 112,
   "metadata": {},
   "outputs": [
    {
     "name": "stdout",
     "output_type": "stream",
     "text": [
      "Mean r2 score for DecisionTreeRegressor : 0.6566231884030477\n",
      "standard deviation in r2 score for DecisionTreeRegressor 0.0718479722229187\n"
     ]
    }
   ],
   "source": [
    "from sklearn.model_selection import cross_val_score\n",
    "print(\"Mean r2 score for DecisionTreeRegressor :\",cross_val_score(dtc,x,y,cv=139,scoring=\"r2\").mean())\n",
    "print(\"standard deviation in r2 score for DecisionTreeRegressor\",cross_val_score(dtc,x,y,cv=5,scoring=\"r2\").std())"
   ]
  },
  {
   "cell_type": "code",
   "execution_count": 113,
   "metadata": {},
   "outputs": [
    {
     "data": {
      "text/plain": [
       "{'learning_rate': 0.01, 'n_estimators': 500}"
      ]
     },
     "execution_count": 113,
     "metadata": {},
     "output_type": "execute_result"
    }
   ],
   "source": [
    "\n",
    "from sklearn.ensemble import GradientBoostingRegressor\n",
    "import warnings\n",
    "warnings.filterwarnings(\"ignore\")\n",
    "gbr=GradientBoostingRegressor()\n",
    "parameters={\"learning_rate\":[0.001,0.01,0.1,1],\"n_estimators\":[10,100,500,1000]}\n",
    "clf=GridSearchCV(gbr,parameters,cv=5)\n",
    "clf.fit(x,y)\n",
    "clf.best_params_"
   ]
  },
  {
   "cell_type": "code",
   "execution_count": 114,
   "metadata": {
    "scrolled": true
   },
   "outputs": [
    {
     "name": "stdout",
     "output_type": "stream",
     "text": [
      "r2 score corresponding to 42 is 0.8639458437955636\n",
      "r2 score corresponding to 43 is 0.8762299605390494\n",
      "r2 score corresponding to 44 is 0.8768633185269114\n",
      "r2 score corresponding to 45 is 0.8722383267553362\n",
      "r2 score corresponding to 46 is 0.8799016726949384\n",
      "r2 score corresponding to 47 is 0.8719079848987437\n",
      "r2 score corresponding to 48 is 0.8695899160252016\n",
      "r2 score corresponding to 49 is 0.8797430132332718\n",
      "r2 score corresponding to 50 is 0.8771084779212438\n",
      "r2 score corresponding to 51 is 0.8742747865545357\n",
      "r2 score corresponding to 52 is 0.8770245691204469\n",
      "r2 score corresponding to 53 is 0.8772701564628688\n",
      "r2 score corresponding to 54 is 0.8757888780935188\n",
      "r2 score corresponding to 55 is 0.8783369221330617\n",
      "r2 score corresponding to 56 is 0.8862830276860164\n",
      "r2 score corresponding to 57 is 0.8707508983280148\n",
      "r2 score corresponding to 58 is 0.8830879921452278\n",
      "r2 score corresponding to 59 is 0.8754096184542065\n",
      "r2 score corresponding to 60 is 0.8692642607649204\n",
      "r2 score corresponding to 61 is 0.8802284944676926\n",
      "r2 score corresponding to 62 is 0.8825948944528278\n",
      "r2 score corresponding to 63 is 0.8779001601732889\n",
      "r2 score corresponding to 64 is 0.8800131147232957\n",
      "r2 score corresponding to 65 is 0.878606888904046\n",
      "r2 score corresponding to 66 is 0.881679409547755\n",
      "r2 score corresponding to 67 is 0.8788521064330745\n",
      "r2 score corresponding to 68 is 0.8769440077916525\n",
      "r2 score corresponding to 69 is 0.8767167801911284\n",
      "r2 score corresponding to 70 is 0.8795646559518306\n",
      "r2 score corresponding to 71 is 0.8793026878533023\n",
      "r2 score corresponding to 72 is 0.8823732906914848\n",
      "r2 score corresponding to 73 is 0.8801356918652343\n",
      "r2 score corresponding to 74 is 0.8815856909253627\n",
      "r2 score corresponding to 75 is 0.8792818952626242\n",
      "r2 score corresponding to 76 is 0.8789842790714625\n",
      "r2 score corresponding to 77 is 0.8746769672664991\n",
      "r2 score corresponding to 78 is 0.8769689364378548\n",
      "r2 score corresponding to 79 is 0.8794539025667084\n",
      "r2 score corresponding to 80 is 0.8724755330146842\n",
      "r2 score corresponding to 81 is 0.8728106669710992\n",
      "r2 score corresponding to 82 is 0.8756480019359852\n",
      "r2 score corresponding to 83 is 0.8778002689953013\n",
      "r2 score corresponding to 84 is 0.8715172257654512\n",
      "r2 score corresponding to 85 is 0.8789768967547884\n",
      "r2 score corresponding to 86 is 0.8721121255594747\n",
      "r2 score corresponding to 87 is 0.8769028357819156\n",
      "r2 score corresponding to 88 is 0.8797205134762519\n",
      "r2 score corresponding to 89 is 0.8768789620318767\n",
      "r2 score corresponding to 90 is 0.8789920148744544\n",
      "r2 score corresponding to 91 is 0.8752983767433221\n",
      "r2 score corresponding to 92 is 0.8717448498135024\n",
      "r2 score corresponding to 93 is 0.8796668298702603\n",
      "r2 score corresponding to 94 is 0.8736317314544649\n",
      "r2 score corresponding to 95 is 0.8764018734527164\n",
      "r2 score corresponding to 96 is 0.8811200694419061\n",
      "r2 score corresponding to 97 is 0.8795813535442019\n",
      "r2 score corresponding to 98 is 0.8758568261374938\n",
      "r2 score corresponding to 99 is 0.8762424700051279\n",
      "max r2 score corresponding to 56 is 0.8862830276860164\n"
     ]
    }
   ],
   "source": [
    "# Finding best r2 score value for  GradientBoostingRegressor\n",
    "gbr=GradientBoostingRegressor(learning_rate=0.01,n_estimators=500)\n",
    "i=maxr2_score(gbr,x,y)"
   ]
  },
  {
   "cell_type": "code",
   "execution_count": 115,
   "metadata": {},
   "outputs": [
    {
     "name": "stdout",
     "output_type": "stream",
     "text": [
      "Mean r2 score for gradient boosting Regression: 0.6837339647109874\n",
      "standard deviation in r2 score for gradient boosting Regression 0.03384617962470102\n"
     ]
    }
   ],
   "source": [
    "gbr=GradientBoostingRegressor(learning_rate=0.01,n_estimators=500)\n",
    "print(\"Mean r2 score for gradient boosting Regression:\",cross_val_score(gbr,x,y,cv=5,scoring=\"r2\").mean())\n",
    "print(\"standard deviation in r2 score for gradient boosting Regression\",cross_val_score(gbr,x,y,cv=5,scoring=\"r2\").std())"
   ]
  },
  {
   "cell_type": "code",
   "execution_count": 116,
   "metadata": {},
   "outputs": [
    {
     "data": {
      "text/plain": [
       "{'max_features': 'sqrt', 'n_estimators': 250}"
      ]
     },
     "execution_count": 116,
     "metadata": {},
     "output_type": "execute_result"
    }
   ],
   "source": [
    "from sklearn.ensemble import RandomForestRegressor\n",
    "rfr=RandomForestRegressor()\n",
    "parameters={\"n_estimators\":[10,100,250,500],\"max_features\": [\"auto\", \"sqrt\", \"log2\"]}\n",
    "clf=GridSearchCV(rfr,parameters,cv=5)\n",
    "clf.fit(x,y)\n",
    "clf.best_params_"
   ]
  },
  {
   "cell_type": "code",
   "execution_count": 117,
   "metadata": {},
   "outputs": [
    {
     "name": "stdout",
     "output_type": "stream",
     "text": [
      "r2 score corresponding to 42 is 0.9585828426910998\n",
      "r2 score corresponding to 43 is 0.9578100182681157\n",
      "r2 score corresponding to 44 is 0.9621829643955724\n",
      "r2 score corresponding to 45 is 0.9593902990023703\n",
      "r2 score corresponding to 46 is 0.9598355046713061\n",
      "r2 score corresponding to 47 is 0.9609839381873267\n",
      "r2 score corresponding to 48 is 0.9551411665193484\n",
      "r2 score corresponding to 49 is 0.9625032429794474\n",
      "r2 score corresponding to 50 is 0.9588413927112499\n",
      "r2 score corresponding to 51 is 0.9578031159748521\n",
      "r2 score corresponding to 52 is 0.9590843058498205\n",
      "r2 score corresponding to 53 is 0.9616588607468962\n",
      "r2 score corresponding to 54 is 0.9570557130097903\n",
      "r2 score corresponding to 55 is 0.9606918769258599\n",
      "r2 score corresponding to 56 is 0.9624449004155433\n",
      "r2 score corresponding to 57 is 0.959866365843027\n",
      "r2 score corresponding to 58 is 0.9606835374694374\n",
      "r2 score corresponding to 59 is 0.959719544800898\n",
      "r2 score corresponding to 60 is 0.9557433016476283\n",
      "r2 score corresponding to 61 is 0.9607929387642603\n",
      "r2 score corresponding to 62 is 0.9627323407975923\n",
      "r2 score corresponding to 63 is 0.9581037850944819\n",
      "r2 score corresponding to 64 is 0.9593203045875863\n",
      "r2 score corresponding to 65 is 0.960676612912157\n",
      "r2 score corresponding to 66 is 0.9627317856302179\n",
      "r2 score corresponding to 67 is 0.9594545249132872\n",
      "r2 score corresponding to 68 is 0.958831416756884\n",
      "r2 score corresponding to 69 is 0.9614266585561888\n",
      "r2 score corresponding to 70 is 0.9599114356146035\n",
      "r2 score corresponding to 71 is 0.9579102119920507\n",
      "r2 score corresponding to 72 is 0.9620237334826769\n",
      "r2 score corresponding to 73 is 0.9602210956529191\n",
      "r2 score corresponding to 74 is 0.9607929243329909\n",
      "r2 score corresponding to 75 is 0.9607772283780395\n",
      "r2 score corresponding to 76 is 0.9614961621932259\n",
      "r2 score corresponding to 77 is 0.9607014097728904\n",
      "r2 score corresponding to 78 is 0.961583952272011\n",
      "r2 score corresponding to 79 is 0.9629860772617456\n",
      "r2 score corresponding to 80 is 0.9613973785429393\n",
      "r2 score corresponding to 81 is 0.9601912746523392\n",
      "r2 score corresponding to 82 is 0.9586115579807879\n",
      "r2 score corresponding to 83 is 0.9590505313179044\n",
      "r2 score corresponding to 84 is 0.9566826032870104\n",
      "r2 score corresponding to 85 is 0.960222877241682\n",
      "r2 score corresponding to 86 is 0.960666173265708\n",
      "r2 score corresponding to 87 is 0.9614235877194744\n",
      "r2 score corresponding to 88 is 0.9598556255253571\n",
      "r2 score corresponding to 89 is 0.9549570424882012\n",
      "r2 score corresponding to 90 is 0.9606162997176713\n",
      "r2 score corresponding to 91 is 0.9602998268003621\n",
      "r2 score corresponding to 92 is 0.95798461324398\n",
      "r2 score corresponding to 93 is 0.9611883310086405\n",
      "r2 score corresponding to 94 is 0.9562509856874651\n",
      "r2 score corresponding to 95 is 0.9593582853408212\n",
      "r2 score corresponding to 96 is 0.961077112900032\n",
      "r2 score corresponding to 97 is 0.9587969272604965\n",
      "r2 score corresponding to 98 is 0.9583093041343402\n",
      "r2 score corresponding to 99 is 0.9594173739018657\n",
      "max r2 score corresponding to 79 is 0.9629860772617456\n"
     ]
    }
   ],
   "source": [
    "# Finding best r2 score value for  RandomForestRegressor\n",
    "rfr=RandomForestRegressor(max_features='sqrt',n_estimators=500)\n",
    "i=maxr2_score(rfr,x,y)"
   ]
  },
  {
   "cell_type": "code",
   "execution_count": 118,
   "metadata": {},
   "outputs": [
    {
     "name": "stdout",
     "output_type": "stream",
     "text": [
      "Mean r2 score for RandomForestRegressor : 0.6426023045892574\n",
      "standard deviation in r2 score for RandomForestRegressor  0.04864869947052064\n"
     ]
    }
   ],
   "source": [
    "print(\"Mean r2 score for RandomForestRegressor :\",cross_val_score(rfr,x,y,cv=10,scoring=\"r2\").mean())\n",
    "print(\"standard deviation in r2 score for RandomForestRegressor \",cross_val_score(rfr,x,y,cv=5,scoring=\"r2\").std()) "
   ]
  },
  {
   "cell_type": "markdown",
   "metadata": {},
   "source": [
    "# We tried all and found Random forest Regressor   the best one\n"
   ]
  },
  {
   "cell_type": "code",
   "execution_count": 126,
   "metadata": {},
   "outputs": [],
   "source": [
    "\n",
    "x_train,x_test,y_train,y_test=train_test_split(x,y,random_state=79,test_size=0.20)\n",
    "rfr=RandomForestRegressor(max_features='sqrt',n_estimators=500)\n",
    "rfr.fit(x,y)\n",
    "y_pred=dtc.predict(x_test)"
   ]
  },
  {
   "cell_type": "markdown",
   "metadata": {},
   "source": [
    "# Finding Root mean square error and r2 score for test data "
   ]
  },
  {
   "cell_type": "code",
   "execution_count": 127,
   "metadata": {},
   "outputs": [
    {
     "name": "stdout",
     "output_type": "stream",
     "text": [
      "RMSE is:  0.07300397764982024\n",
      "r2_score is: 0.9717210701821536\n"
     ]
    }
   ],
   "source": [
    "\n",
    "import numpy as np\n",
    "from sklearn.metrics import r2_score\n",
    "from sklearn.metrics import mean_squared_error\n",
    "print(\"RMSE is: \",np.sqrt(mean_squared_error(y_test,y_pred)))\n",
    "print(\"r2_score is:\",r2_score(y_test,y_pred))"
   ]
  },
  {
   "cell_type": "markdown",
   "metadata": {},
   "source": [
    "# Saving the model"
   ]
  },
  {
   "cell_type": "code",
   "execution_count": 125,
   "metadata": {},
   "outputs": [
    {
     "data": {
      "text/plain": [
       "['covid.pkl']"
      ]
     },
     "execution_count": 125,
     "metadata": {},
     "output_type": "execute_result"
    }
   ],
   "source": [
    "\n",
    "from sklearn.externals import joblib\n",
    "joblib.dump(dtc,\"covid.pkl\")"
   ]
  },
  {
   "cell_type": "code",
   "execution_count": null,
   "metadata": {},
   "outputs": [],
   "source": []
  }
 ],
 "metadata": {
  "kernelspec": {
   "display_name": "Python 3",
   "language": "python",
   "name": "python3"
  },
  "language_info": {
   "codemirror_mode": {
    "name": "ipython",
    "version": 3
   },
   "file_extension": ".py",
   "mimetype": "text/x-python",
   "name": "python",
   "nbconvert_exporter": "python",
   "pygments_lexer": "ipython3",
   "version": "3.7.6"
  }
 },
 "nbformat": 4,
 "nbformat_minor": 4
}
